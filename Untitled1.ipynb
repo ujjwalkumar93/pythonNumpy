{
 "cells": [
  {
   "cell_type": "code",
   "execution_count": null,
   "metadata": {},
   "outputs": [],
   "source": [
    "import random\n",
    "\n",
    "from pip._vendor.distlib.compat import raw_input\n",
    "\n",
    "greetings = ['hello', 'hi', 'Hi', 'hey!','hey','hey.. how can i help you?','Hello']\n",
    "random_greeting = random.choice(greetings)\n",
    "\n",
    "question = ['how are you','how are you doing?','how are you doing','hw r u doing','hw r u?','how r you','hw are you?','hw r u']\n",
    "responses = [\"I'm fine\",'i am doing fine, How can i help you?']\n",
    "random_response = random.choice(responses)\n",
    "contact_que=['can you give me your adress','can i get your adress','what is your adress','can you give me your adress?','can i get your adress?','what is your adress?',]\n",
    "contact_res=['Sure, We are located at Aundh','Why not, Our adress is Laxmi krupa building, Opposite Old Fab-India']\n",
    "contact_res_ran=random.choice(contact_res)\n",
    "\n",
    "while True:\n",
    "\tuserInput = raw_input(\">>> \").lower()\n",
    "\tif userInput in greetings:\n",
    "\t\tprint(random_greeting)\n",
    "\n",
    "\n",
    "\telif userInput in question:\n",
    "\t\tprint(random_response)\n",
    "    elif userInput in contact_que:\n",
    "        print(contact_res_ran)\n",
    "    \n",
    "    \n",
    "\n",
    "    \n",
    "        \n",
    "\n",
    "\telse:\n",
    "\t\tprint(\"I did not understand what you said\")\n"
   ]
  },
  {
   "cell_type": "code",
   "execution_count": null,
   "metadata": {},
   "outputs": [],
   "source": []
  },
  {
   "cell_type": "code",
   "execution_count": null,
   "metadata": {},
   "outputs": [],
   "source": []
  }
 ],
 "metadata": {
  "kernelspec": {
   "display_name": "Python 3",
   "language": "python",
   "name": "python3"
  },
  "language_info": {
   "codemirror_mode": {
    "name": "ipython",
    "version": 3
   },
   "file_extension": ".py",
   "mimetype": "text/x-python",
   "name": "python",
   "nbconvert_exporter": "python",
   "pygments_lexer": "ipython3",
   "version": "3.6.5"
  }
 },
 "nbformat": 4,
 "nbformat_minor": 2
}
