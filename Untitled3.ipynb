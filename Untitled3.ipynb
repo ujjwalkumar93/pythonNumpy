{
 "cells": [
  {
   "cell_type": "code",
   "execution_count": 7,
   "metadata": {},
   "outputs": [
    {
     "name": "stdout",
     "output_type": "stream",
     "text": [
      "                                                                                                      1661886\n",
      "                                                                                                     06/05/2019\n",
      "                        1088                                    T64090\n",
      "TATA MOTORS LTD                                         TATA MOTORS LTD\n",
      "PIMPRI,                                                 PIMPRI,\n",
      "PUNE-411018.                                            PUNE-411018.\n",
      "\n",
      "\n",
      "          27AAACT2727Q1ZW                                            27AAACT2727Q1ZW EWB: 191125879087\n",
      "          27                     MAHARASHTRA                         27               MAHARASHTRA\n",
      "\n",
      "                            BLUE DART                                             30 DAYS NET\n",
      "                            1634612     58394518556                               06/05/2019 16:36\n",
      "                                 Oc no: 761456                                    MAHARASHTRA\n",
      "\n",
      "\n",
      "\n",
      "\n",
      " 1   XNAT 150412-30C TT6030             200    515.96   103192.00                                  18575     121767.00\n",
      "     Cat: 5670503 881655021300                                                                      18%\n",
      "     HSN: 82090010\n",
      "     PO: 2510229661\n",
      "\n",
      "\n",
      "\n",
      "\n",
      "                                         200             103192.00                                   18575     121767.00\n",
      "\n",
      "\n",
      "                                                                     INR.ONE LAKH TWENTY-ONE THOUSAND SEVEN HUNDRE\n",
      "                                                                     D SIXTY-SEVEN ONLY.\n",
      "\f",
      "\n"
     ]
    }
   ],
   "source": [
    "import tempfile, subprocess,os\n",
    "import docx\n",
    "\n",
    "\n",
    "\n",
    "def pdf_to_string(file_object):\n",
    "    pdfData = file_object.read()\n",
    "    tf = tempfile.NamedTemporaryFile()\n",
    "    tf.write(pdfData)\n",
    "    tf.seek(0)\n",
    "    outputTf = tempfile.NamedTemporaryFile()\n",
    "\n",
    "    if (len(pdfData) > 0) :\n",
    "        out, err = subprocess.Popen([\"pdftotext\", \"-layout\", tf.name, outputTf.name ]).communicate()\n",
    "\treturn outputTf.read()\n",
    "    else :\n",
    "        return None\n",
    "\n",
    "pdf_file=\"/home/ujjwal/Downloads/Invoice.pdf\"\n",
    "file_object = file(pdf_file, 'rb')\n",
    "print (pdf_to_string(file_object))\n",
    "test=unicode(pdf_to_string(file_object))\n",
    "#print(test)\n",
    "#print(\"SEE ABOVE\")\n",
    "#test+=pdf_to_string(file_object)\n",
    "#doc=docx.Document()\n",
    "#doc.add_paragraph(pdf_to_string(file_object))\n",
    "#doc.save('new.docx')\n",
    "\n",
    "\n",
    "#print(type(pdf_to_string(file_object)))\n"
   ]
  },
  {
   "cell_type": "code",
   "execution_count": null,
   "metadata": {},
   "outputs": [],
   "source": []
  }
 ],
 "metadata": {
  "kernelspec": {
   "display_name": "Python 2",
   "language": "python",
   "name": "python2"
  },
  "language_info": {
   "codemirror_mode": {
    "name": "ipython",
    "version": 2
   },
   "file_extension": ".py",
   "mimetype": "text/x-python",
   "name": "python",
   "nbconvert_exporter": "python",
   "pygments_lexer": "ipython2",
   "version": "2.7.15rc1"
  }
 },
 "nbformat": 4,
 "nbformat_minor": 2
}
