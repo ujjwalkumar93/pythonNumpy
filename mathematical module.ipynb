{
 "cells": [
  {
   "cell_type": "code",
   "execution_count": 7,
   "metadata": {},
   "outputs": [
    {
     "name": "stdout",
     "output_type": "stream",
     "text": [
      "printing array:  [ 30  60  90 120 150 180 210 240 270 300 330 360]\n",
      "Printing value for sin:  [ 5.00000000e-01  8.66025404e-01  1.00000000e+00  8.66025404e-01\n",
      "  5.00000000e-01  1.22464680e-16 -5.00000000e-01 -8.66025404e-01\n",
      " -1.00000000e+00 -8.66025404e-01 -5.00000000e-01 -2.44929360e-16]\n",
      "printing value for cos:  [ 8.66025404e-01  5.00000000e-01  6.12323400e-17 -5.00000000e-01\n",
      " -8.66025404e-01 -1.00000000e+00 -8.66025404e-01 -5.00000000e-01\n",
      " -1.83697020e-16  5.00000000e-01  8.66025404e-01  1.00000000e+00]\n",
      "printing value for tan:  [ 8.66025404e-01  5.00000000e-01  6.12323400e-17 -5.00000000e-01\n",
      " -8.66025404e-01 -1.00000000e+00 -8.66025404e-01 -5.00000000e-01\n",
      " -1.83697020e-16  5.00000000e-01  8.66025404e-01  1.00000000e+00]\n",
      "printing cosec value:  [ 5.23598776e-01  1.04719755e+00  1.57079633e+00  1.04719755e+00\n",
      "  5.23598776e-01  1.22464680e-16 -5.23598776e-01 -1.04719755e+00\n",
      " -1.57079633e+00 -1.04719755e+00 -5.23598776e-01 -2.44929360e-16]\n"
     ]
    }
   ],
   "source": [
    "import numpy as np\n",
    "arr=np.array([30,60,90,120,150,180,210,240,270,300,330,360])\n",
    "print(\"printing array: \",arr)\n",
    "sin_value=np.sin(arr*np.pi/180)\n",
    "print(\"Printing value for sin: \",sin_value)\n",
    "print(\"printing value for cos: \", np.cos(arr*np.pi/180))\n",
    "print(\"printing value for tan: \", np.cos(arr*np.pi/180))\n",
    "print(\"printing cosec value: \", np.arcsin(sin_value))"
   ]
  },
  {
   "cell_type": "code",
   "execution_count": 10,
   "metadata": {},
   "outputs": [
    {
     "name": "stdout",
     "output_type": "stream",
     "text": [
      "[ 2.   5.   9.1 78.1]\n"
     ]
    }
   ],
   "source": [
    "import numpy as np\n",
    "arr=np.array([2.034,5.0008,9.089,78.097])\n",
    "print(np.around(arr,1))"
   ]
  },
  {
   "cell_type": "code",
   "execution_count": 11,
   "metadata": {},
   "outputs": [
    {
     "name": "stdout",
     "output_type": "stream",
     "text": [
      "[ 2.  5.  9. 78.]\n"
     ]
    }
   ],
   "source": [
    "import numpy as np\n",
    "arr=np.array([2.034,5.0008,9.089,78.097])\n",
    "print(np.floor(arr))"
   ]
  },
  {
   "cell_type": "code",
   "execution_count": 12,
   "metadata": {},
   "outputs": [
    {
     "name": "stdout",
     "output_type": "stream",
     "text": [
      "[ 3.  6. 10. 79.]\n"
     ]
    }
   ],
   "source": [
    "import numpy as np\n",
    "arr=np.array([2.034,5.0008,9.089,78.097])\n",
    "print(np.ceil(arr))"
   ]
  },
  {
   "cell_type": "markdown",
   "metadata": {},
   "source": [
    "# Numpy statistical functions"
   ]
  },
  {
   "cell_type": "code",
   "execution_count": 15,
   "metadata": {},
   "outputs": [
    {
     "name": "stdout",
     "output_type": "stream",
     "text": [
      "Printing array:  [[1 2 3]\n",
      " [4 5 6]\n",
      " [7 8 9]]\n",
      "Printing maximum element in array:  9\n",
      "Printing minimum element in array:  1\n",
      "Printing maximum element in array as row specified:  [3 6 9]\n",
      "Printing minimum element in array [1 4 7]\n"
     ]
    }
   ],
   "source": [
    "import numpy as np\n",
    "arr=np.array([[1,2,3],[4,5,6],[7,8,9]])\n",
    "print(\"Printing array: \",arr)\n",
    "print(\"Printing maximum element in array: \", np.amax(arr))\n",
    "print(\"Printing minimum element in array: \", np.amin(arr))\n",
    "print(\"Printing maximum element in array as row specified: \", np.amax(arr,1))\n",
    "print(\"Printing minimum element in array\", np.amin(arr,1))"
   ]
  },
  {
   "cell_type": "code",
   "execution_count": null,
   "metadata": {},
   "outputs": [],
   "source": []
  }
 ],
 "metadata": {
  "kernelspec": {
   "display_name": "Python 3",
   "language": "python",
   "name": "python3"
  },
  "language_info": {
   "codemirror_mode": {
    "name": "ipython",
    "version": 3
   },
   "file_extension": ".py",
   "mimetype": "text/x-python",
   "name": "python",
   "nbconvert_exporter": "python",
   "pygments_lexer": "ipython3",
   "version": "3.6.5"
  }
 },
 "nbformat": 4,
 "nbformat_minor": 2
}
